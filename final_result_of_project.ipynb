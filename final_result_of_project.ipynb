{
  "cells": [
    {
      "cell_type": "markdown",
      "metadata": {
        "id": "view-in-github",
        "colab_type": "text"
      },
      "source": [
        "<a href=\"https://colab.research.google.com/github/J0566/chatbot-feedback-project-/blob/main/final_result_of_project.ipynb\" target=\"_parent\"><img src=\"https://colab.research.google.com/assets/colab-badge.svg\" alt=\"Open In Colab\"/></a>"
      ]
    },
    {
      "cell_type": "code",
      "source": [
        "import pandas as pd\n",
        "import nltk\n",
        "from nltk.tokenize import word_tokenize\n",
        "from sklearn.feature_extraction.text import TfidfVectorizer\n",
        "from sklearn.metrics.pairwise import cosine_similarity"
      ],
      "metadata": {
        "id": "-6tq1WGXX8LG"
      },
      "execution_count": 14,
      "outputs": []
    },
    {
      "cell_type": "code",
      "source": [
        "df=pd.read_csv('Project.csv')"
      ],
      "metadata": {
        "id": "loxquSWaYAiM"
      },
      "execution_count": 15,
      "outputs": []
    },
    {
      "cell_type": "code",
      "source": [
        "df.columns"
      ],
      "metadata": {
        "collapsed": true,
        "id": "9hnEp3e9YGFL"
      },
      "execution_count": null,
      "outputs": []
    },
    {
      "cell_type": "code",
      "source": [
        "# stop_words='english' : ignore common English words\n",
        "# fit: It learns the vocabulary\n",
        "# from the text data in the 'Feedback' column\n",
        "# transform : converts text in the Feedback into vectors based on what it learned during the fit step.\n",
        "vector = TfidfVectorizer(stop_words='english', ngram_range=(1,2))\n",
        "item_vectors = vector.fit_transform(df['Feedback'])"
      ],
      "metadata": {
        "id": "hx--Q8Diw0pb"
      },
      "execution_count": 17,
      "outputs": []
    },
    {
      "cell_type": "code",
      "source": [
        "def handle_feed(Feed):\n",
        "    support_responses = {\n",
        "        \"salty\": [\"salt\", \"salty\", \"more salt\", \"less salt\",\"needs salt\",\"needs more salt\",\"needs less salt\"],\n",
        "        \"spicy\": [\"spicy\", \"hot\", \"needs more spices\",\"too hot\"],\n",
        "        \"cold\": [\"cold\", \"not hot\", \"swap\"],\n",
        "        \"yummy\": [\"delicious\", \"yummy\", \"amazing\", \"awesome\",\"loved it\"],\n",
        "        \"poor service\":[\"not cleaned plates\",\" too long for the order\",\"not clean uniform\"]\n",
        "    }\n",
        "    for response, keywords in support_responses.items():\n",
        "        if any(keyword in Feed.lower() for keyword in keywords):\n",
        "            return {\n",
        "                \"salty\": \"We apologize for the inconvenience, we will try to improve the taste.\",\n",
        "                \"spicy\": \"We apologize for the inconvenience, we will try to improve the taste.\",\n",
        "                \"cold\": \"We apologize for the inconvenience, we will try to improve the quality.\",\n",
        "                \"yummy\": \"Thanks for your feedback. We appreciate it and looking for more feedbacks.\",\n",
        "                \"poor service\": \"We apologize for the inconvenience, we will try to improve our service.\"\n",
        "            }.get(response)"
      ],
      "metadata": {
        "id": "kLWc4mXO3vlt"
      },
      "execution_count": 10,
      "outputs": []
    },
    {
      "cell_type": "code",
      "source": [
        "def chatbot():\n",
        "    global df\n",
        "    print (\" Hi ,I'm here to take your feedback about the food \\n Before this I need some information about you and your order  \")\n",
        "    customer = {\n",
        "    'Name' : input( \"Your Name Sir ::\")\n",
        "    , 'Mobile': int(input(\"Your phone number Sir ::\"))\n",
        "    , 'ORDER Number' : int(input( \"Your Food Order number ::\"))\n",
        "    , 'FOOD(0-10)' : int(input(\"Your Rating for Food (0-10) ::\"))\n",
        "    ,'Feedback': ''\n",
        "    ,'How to improve our service': '' }\n",
        "    if customer['FOOD(0-10)'] < 7:\n",
        "        customer['Feedback'] = input(\"Sorry to hear that. \\n Feedback:: \")\n",
        "        response = handle_feed(customer['Feedback'])\n",
        "        if response:\n",
        "           print(response)\n",
        "\n",
        "    customer['How to improve our service '] = input(\"How to improve our service :: \")\n",
        "    df=pd.concat([df,pd.DataFrame([customer])],ignore_index=True)\n",
        "    df.to_csv('Project.csv',index=False)\n",
        "chatbot()\n",
        "print(\"Thanks for your feedback. We'll work on it!\")\n",
        "print(\"Thanks for your time 😊\")"
      ],
      "metadata": {
        "id": "9LzatnBO5DTB"
      },
      "execution_count": null,
      "outputs": []
    },
    {
      "cell_type": "markdown",
      "source": [],
      "metadata": {
        "id": "8xtX-cpjJqAs"
      }
    }
  ],
  "metadata": {
    "colab": {
      "provenance": [],
      "include_colab_link": true
    },
    "kernelspec": {
      "display_name": "Python 3",
      "name": "python3"
    }
  },
  "nbformat": 4,
  "nbformat_minor": 0
}