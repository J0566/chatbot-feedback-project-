{
  "cells": [
    {
      "cell_type": "code",
      "source": [
        "import pandas as pd\n",
        "import matplotlib.pyplot as plt"
      ],
      "metadata": {
        "id": "-6tq1WGXX8LG"
      },
      "execution_count": null,
      "outputs": []
    },
    {
      "cell_type": "code",
      "source": [
        "df=pd.read_csv('Project.csv')"
      ],
      "metadata": {
        "id": "loxquSWaYAiM"
      },
      "execution_count": null,
      "outputs": []
    },
    {
      "cell_type": "code",
      "source": [
        "df.columns"
      ],
      "metadata": {
        "collapsed": true,
        "id": "9hnEp3e9YGFL",
        "outputId": "ae2e0f0d-4187-4e5f-e43f-dd5fb80b8156",
        "colab": {
          "base_uri": "https://localhost:8080/"
        }
      },
      "execution_count": null,
      "outputs": [
        {
          "output_type": "execute_result",
          "data": {
            "text/plain": [
              "Index(['Name', 'Mobile', 'ORDER Number', 'FOOD(0-10)', 'Feedback',\n",
              "       'How to improve our service '],\n",
              "      dtype='object')"
            ]
          },
          "metadata": {},
          "execution_count": 3
        }
      ]
    },
    {
      "cell_type": "code",
      "source": [
        "print (\" Hi ,I'm here to take your feedback about the food \\n Before this I need some information about you and your order  \")\n",
        "customer = {'Name' : input( \"Your Name Sir ::\")\n",
        " , 'Mobile': int(input(\"Your phone number Sir ::\"))\n",
        " , 'ORDER Number' : int(input( \"Your Food Order number ::\"))\n",
        " , 'FOOD(0-10)' : int(input(\"Your Rating for Food (0-10) ::\"))\n",
        " ,'Feedback': ''\n",
        " ,'How to improve our service': ''}\n",
        "\n",
        "def chatbot():\n",
        "    try:\n",
        "        if customer['FOOD(0-10)'] < 7:\n",
        "            customer['Feedback'] = input(\"Sorry to hear that. \\n Feedback:: \")\n",
        "            customer['How to improve our service '] = input(\"How to improve our service :: \")\n",
        "\n",
        "            print(\"Thanks for your feedback. We'll work on it!\")\n",
        "        else:\n",
        "            print(\"Thanks for your time 😊\")\n",
        "    except ValueError:\n",
        "        print(\"Please enter a valid number between 1 and 10.\")\n",
        "\n",
        "chatbot()\n",
        "df=pd.concat([df,pd.DataFrame([customer])],ignore_index=True)\n",
        "df.to_csv('Project.csv',index=False)"
      ],
      "metadata": {
        "id": "e3GSmWlld1Io",
        "outputId": "90687862-a116-4dcc-af93-0efa61d0c24a",
        "colab": {
          "base_uri": "https://localhost:8080/"
        }
      },
      "execution_count": null,
      "outputs": [
        {
          "output_type": "stream",
          "name": "stdout",
          "text": [
            " Hi ,I'm here to take your feedback about the food \n",
            " Before this I need some information about you and your order  \n",
            "Your Name Sir ::George \n",
            "Your phone number Sir ::01245478963\n",
            "Your Food Order number ::55\n",
            "Your Rating for Food (0-10) ::5\n",
            "Sorry to hear that. \n",
            " Feedback:: it was spicy \n",
            "How to improve our service :: i guess an outdoor view will be good \n",
            "Thanks for your feedback. We'll work on it!\n"
          ]
        }
      ]
    },
    {
      "cell_type": "code",
      "source": [],
      "metadata": {
        "id": "8xtX-cpjJqAs"
      },
      "execution_count": null,
      "outputs": []
    }
  ],
  "metadata": {
    "colab": {
      "provenance": []
    },
    "kernelspec": {
      "display_name": "Python 3",
      "name": "python3"
    }
  },
  "nbformat": 4,
  "nbformat_minor": 0
}